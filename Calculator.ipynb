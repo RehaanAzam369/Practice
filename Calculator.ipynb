{
  "nbformat": 4,
  "nbformat_minor": 0,
  "metadata": {
    "colab": {
      "provenance": [],
      "mount_file_id": "1MKRw19qY-meZgVbCLxKsOR2Q_e4nR6iZ",
      "authorship_tag": "ABX9TyNDAUJDLGjJDY8CllBizVtD",
      "include_colab_link": true
    },
    "kernelspec": {
      "name": "python3",
      "display_name": "Python 3"
    },
    "language_info": {
      "name": "python"
    }
  },
  "cells": [
    {
      "cell_type": "markdown",
      "metadata": {
        "id": "view-in-github",
        "colab_type": "text"
      },
      "source": [
        "<a href=\"https://colab.research.google.com/github/RehaanAzam369/Practice/blob/main/Calculator.ipynb\" target=\"_parent\"><img src=\"https://colab.research.google.com/assets/colab-badge.svg\" alt=\"Open In Colab\"/></a>"
      ]
    },
    {
      "cell_type": "code",
      "execution_count": 1,
      "metadata": {
        "id": "WivNulxiyD4s"
      },
      "outputs": [],
      "source": [
        "def show_history():\n",
        "  f = open(\"history.txt\", \"r\")\n",
        "  lines = f.read()\n",
        "  if len(lines) == 0:\n",
        "    print(\"History is empty\")\n",
        "  else:\n",
        "    print(lines)\n",
        "  f.close()\n",
        "def clear_history():\n",
        "  f = open(\"history.txt\", \"w\")\n",
        "  f.write(\"\")\n",
        "  f.close()\n",
        "  print(\"History cleared\")\n",
        "def save_to_history(equation, result):\n",
        "  f = open(\"history.txt\", \"a\")\n",
        "  f.write(equation + \" = \" + str(result) + \"\\n\")\n",
        "  f.close()\n",
        "def calculate(user_input):\n",
        "  parts = user_input.split()\n",
        "  if len(parts) != 3:\n",
        "    print(\"Invalid input. Use format: number operator number\")\n",
        "    return\n",
        "  num1 = float(parts[0])\n",
        "  operator = parts[1]\n",
        "  num2 = float(parts[2])\n",
        "  if operator == \"+\":\n",
        "    result = num1 + num2\n",
        "  elif operator == \"-\":\n",
        "    result = num1 - num2\n",
        "  elif operator == \"*\":\n",
        "    result = num1 * num2\n",
        "  elif operator == \"/\":\n",
        "    if num2 == 0:\n",
        "      print(\"Division by zero is not allowed\")\n",
        "      return\n",
        "    result = num1 / num2\n",
        "  else:\n",
        "    print(\"Invalid operator. Use +, -, *, or /\")\n",
        "    return\n",
        "  print(f\"{num1} {operator} {num2} = {result}\")\n",
        "  save_to_history(user_input, result)\n",
        "def main():\n",
        "  print(\"Calculator Menu:\")\n",
        "  print(\"1. Calculate\")\n",
        "  print(\"2. Show History\")\n",
        "  print(\"3. Clear History\")\n",
        "  print(\"4. Exit\")\n",
        "  user_input = input(\"Enter your choice: \")\n",
        "  if user_input == \"1\":\n",
        "    equation = input(\"Enter equation: \")\n",
        "    calculate(equation)\n",
        "  elif user_input == \"2\":\n",
        "    show_history()\n",
        "  elif user_input == \"3\":\n",
        "    clear_history()\n",
        "  elif user_input == \"4\":\n",
        "    print(\"Exiting calculator\")\n",
        "    return"
      ]
    },
    {
      "cell_type": "code",
      "source": [
        "main()"
      ],
      "metadata": {
        "colab": {
          "base_uri": "https://localhost:8080/"
        },
        "id": "n6XJwiRqEsPK",
        "outputId": "d8cfa964-5476-4c98-e640-490cfb334c4b"
      },
      "execution_count": 2,
      "outputs": [
        {
          "output_type": "stream",
          "name": "stdout",
          "text": [
            "Calculator Menu:\n",
            "1. Calculate\n",
            "2. Show History\n",
            "3. Clear History\n",
            "4. Exit\n",
            "Enter your choice: 1\n",
            "Enter equation: 3 / 2\n",
            "3.0 / 2.0 = 1.5\n"
          ]
        }
      ]
    }
  ]
}