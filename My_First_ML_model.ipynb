{
  "cells": [
    {
      "cell_type": "code",
      "source": [
        "from sklearn import tree\n",
        "\n",
        "# Step 1: Collect Data\n",
        "# Features: [weight (grams), color (0 = red, 1 = orange)]\n",
        "features = [\n",
        "    [150, 0],  # Apple\n",
        "    [170, 0],  # Apple\n",
        "    [130, 1],  # Orange\n",
        "    [120, 1],  # Orange\n",
        "]\n",
        "labels = [\"apple\", \"apple\", \"orange\", \"orange\"]\n",
        "\n",
        "# Step 2: Train a model\n",
        "clf = tree.DecisionTreeClassifier()\n",
        "clf = clf.fit(features, labels)\n",
        "\n",
        "# Step 3: Predict!\n",
        "print(clf.predict([[160, 0]]))  # Heavy and red-ish? Probably an apple!\n",
        "print(clf.predict([[115, 1]]))  # Light and orange? Probably an orange!"
      ],
      "metadata": {
        "id": "qGhSXMMrT0D-",
        "colab": {
          "base_uri": "https://localhost:8080/"
        },
        "outputId": "4b31d8c9-777f-4e33-ae54-806af9d164d6"
      },
      "execution_count": 1,
      "outputs": [
        {
          "output_type": "stream",
          "name": "stdout",
          "text": [
            "['apple']\n",
            "['orange']\n"
          ]
        }
      ]
    }
  ],
  "metadata": {
    "colab": {
      "provenance": []
    },
    "kernelspec": {
      "display_name": "Python 3",
      "name": "python3"
    },
    "language_info": {
      "name": "python"
    }
  },
  "nbformat": 4,
  "nbformat_minor": 0
}