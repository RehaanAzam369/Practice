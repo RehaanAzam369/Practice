{
  "nbformat": 4,
  "nbformat_minor": 0,
  "metadata": {
    "colab": {
      "provenance": [],
      "authorship_tag": "ABX9TyOFs+jo69UlEYd80JWji3VR",
      "include_colab_link": true
    },
    "kernelspec": {
      "name": "python3",
      "display_name": "Python 3"
    },
    "language_info": {
      "name": "python"
    }
  },
  "cells": [
    {
      "cell_type": "markdown",
      "metadata": {
        "id": "view-in-github",
        "colab_type": "text"
      },
      "source": [
        "<a href=\"https://colab.research.google.com/github/RehaanAzam369/Practice/blob/main/Password_Genrator.ipynb\" target=\"_parent\"><img src=\"https://colab.research.google.com/assets/colab-badge.svg\" alt=\"Open In Colab\"/></a>"
      ]
    },
    {
      "cell_type": "code",
      "source": [
        "import string\n",
        "import random\n",
        "if __name__ == '__main__':\n",
        "   s1 = string.ascii_lowercase\n",
        "  # print(s1)\n",
        "   s2 = string.ascii_uppercase\n",
        "  # print(s2)\n",
        "   s3 = string.digits\n",
        "  # print(s3)\n",
        "   s4 = string.punctuation\n",
        "  # print(s4)\n",
        "   s5 = string.ascii_letters\n",
        "  # print(s5)\n",
        "plen = int(input(\"Enter the password length: \"))\n",
        "s = []\n",
        "s.extend(list(s1))\n",
        "s.extend(list(s2))\n",
        "s.extend(list(s3))\n",
        "s.extend(list(s4))\n",
        "s.extend(list(s5))\n",
        "#print(s)\n",
        "random.shuffle(s)\n",
        "print(\"Your Password is: \")\n",
        "print(\"\".join(s[0:plen]))"
      ],
      "metadata": {
        "colab": {
          "base_uri": "https://localhost:8080/"
        },
        "id": "cQFr8x5YxSSc",
        "outputId": "d0f4ad6e-a0d3-4a8b-897c-afa1c745da0c"
      },
      "execution_count": 6,
      "outputs": [
        {
          "output_type": "stream",
          "name": "stdout",
          "text": [
            "Enter the password length: 6\n",
            "Your Password is: \n",
            "fPsp}R\n"
          ]
        }
      ]
    }
  ]
}