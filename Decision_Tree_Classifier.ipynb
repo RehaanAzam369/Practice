{
  "nbformat": 4,
  "nbformat_minor": 0,
  "metadata": {
    "colab": {
      "provenance": [],
      "authorship_tag": "ABX9TyNeXktYgSgQSYp3vKMsLkbk",
      "include_colab_link": true
    },
    "kernelspec": {
      "name": "python3",
      "display_name": "Python 3"
    },
    "language_info": {
      "name": "python"
    }
  },
  "cells": [
    {
      "cell_type": "markdown",
      "metadata": {
        "id": "view-in-github",
        "colab_type": "text"
      },
      "source": [
        "<a href=\"https://colab.research.google.com/github/RehaanAzam369/Practice/blob/main/Decision_Tree_Classifier.ipynb\" target=\"_parent\"><img src=\"https://colab.research.google.com/assets/colab-badge.svg\" alt=\"Open In Colab\"/></a>"
      ]
    },
    {
      "cell_type": "code",
      "execution_count": 1,
      "metadata": {
        "id": "kY6HGrrEFzcK"
      },
      "outputs": [],
      "source": [
        "import numpy as np\n",
        "from collections import Counter"
      ]
    },
    {
      "cell_type": "markdown",
      "source": [
        "1. Gini Impurity Function"
      ],
      "metadata": {
        "id": "A_u7MrJtddNN"
      }
    },
    {
      "cell_type": "code",
      "source": [
        "# Gini Impurity\n",
        "def gini(y):\n",
        "  counts =  Counter(y)\n",
        "  impurity = 1.0\n",
        "  for lbl in counts:\n",
        "    prob_of_lbl = counts[lbl] / float(len(y))\n",
        "    impurity -= prob_of_lbl**2\n",
        "  return impurity"
      ],
      "metadata": {
        "id": "RnG09h1YHFcR"
      },
      "execution_count": 3,
      "outputs": []
    },
    {
      "cell_type": "markdown",
      "source": [
        "2. Spltting the Dataset"
      ],
      "metadata": {
        "id": "C__RMXSRdhkR"
      }
    },
    {
      "cell_type": "code",
      "source": [
        "# Split Data\n",
        "def split_data(X, y, feature_indices, threshold):\n",
        "  left_indices = np.where(X[:, feature_indices] <= threshold)\n",
        "  right_indices = np.where(X[:, feature_indices] > threshold)\n",
        "  return X[left_indices], X[right_indices], y[left_indices], y[right_indices]"
      ],
      "metadata": {
        "id": "yxvyjnt4ItI3"
      },
      "execution_count": 5,
      "outputs": []
    },
    {
      "cell_type": "markdown",
      "source": [
        "3. Finding the best split"
      ],
      "metadata": {
        "id": "JwCnVVnGdxUK"
      }
    },
    {
      "cell_type": "code",
      "source": [
        "# Best split finder\n",
        "def best_split(X, y):\n",
        "  best_gini = float(\"inf\")\n",
        "  best_idx = None\n",
        "  best_threshold = None\n",
        "  n_features = X.shape[1]\n",
        "  for feature_idx in range(n_features):\n",
        "    thresholds = np.unique(X[:, feature_idx])\n",
        "    for threshold in thresholds:\n",
        "      X_left, X_right, y_left, y_right = split_data(X, y, feature_idx, threshold)\n",
        "      if len(y_left) == 0 or len(y_right) == 0:\n",
        "        continue\n",
        "      gini_left = gini(y_left)\n",
        "      gini_right = gini(y_right)\n",
        "      weighted_gini = (len(y_left) / len(y)) * gini_left + (len(y_right) / len(y)) * gini_right\n",
        "      if weighted_gini < best_gini:\n",
        "        best_gini = weighted_gini\n",
        "        best_idx = feature_idx\n",
        "        best_threshold = threshold\n",
        "  return best_idx, best_threshold"
      ],
      "metadata": {
        "id": "lsjiG_PeJhUW"
      },
      "execution_count": 13,
      "outputs": []
    },
    {
      "cell_type": "markdown",
      "source": [
        "4. Tree Node Class"
      ],
      "metadata": {
        "id": "7v_K5YFGd65W"
      }
    },
    {
      "cell_type": "code",
      "source": [
        "class Node:\n",
        "  def __init__(self, left = None, right = None, feature = None, threshold = None,*, value = None):\n",
        "    self.left = left\n",
        "    self.right = right\n",
        "    self.feature = feature\n",
        "    self.threshold = threshold\n",
        "    self.value = value"
      ],
      "metadata": {
        "id": "Su5cHavBQnon"
      },
      "execution_count": 8,
      "outputs": []
    },
    {
      "cell_type": "markdown",
      "source": [
        "5. Recursive Tree Builder"
      ],
      "metadata": {
        "id": "tSjtfo07ednw"
      }
    },
    {
      "cell_type": "code",
      "source": [
        "def build_tree(X, y, depth = 0, max_depth = 5):\n",
        "  num_samples_per_class = Counter(y)\n",
        "  predicted_class = max(num_samples_per_class, key = num_samples_per_class.get)\n",
        "\n",
        "  if depth>=max_depth or len(set(y)) == 1:\n",
        "    return Node(value = predicted_class)\n",
        "\n",
        "  feature, threshold = best_split(X, y)\n",
        "  if feature is None:\n",
        "    return Node(value = predicted_class)\n",
        "  X_left, X_right, y_left, y_right = split_data(X, y, feature, threshold)\n",
        "  left_child = build_tree(X_left, y_left, depth + 1, max_depth)\n",
        "  right_child = build_tree(X_right, y_right, depth + 1, max_depth)\n",
        "  return Node(left=left_child, right=right_child, feature=feature, threshold=threshold)"
      ],
      "metadata": {
        "id": "wKtCxuqQSF4_"
      },
      "execution_count": 14,
      "outputs": []
    },
    {
      "cell_type": "markdown",
      "source": [
        "6. Prediction for one sample"
      ],
      "metadata": {
        "id": "CbndTXN_elVu"
      }
    },
    {
      "cell_type": "code",
      "source": [
        "def predict(sample, tree):\n",
        "  if tree.value is not None:\n",
        "    return tree.value\n",
        "  feature_val = sample[tree.feature]\n",
        "  if feature_val <= tree.threshold:\n",
        "    return predict(sample, tree.left)\n",
        "  else:\n",
        "    return predict(sample, tree.right)"
      ],
      "metadata": {
        "id": "OWRfIIIrV1A2"
      },
      "execution_count": 10,
      "outputs": []
    },
    {
      "cell_type": "markdown",
      "source": [
        "Prediction for many samples"
      ],
      "metadata": {
        "id": "sf4DDmn2XzAg"
      }
    },
    {
      "cell_type": "code",
      "source": [
        "def predict_batch(X, tree):\n",
        "  return[predict(sample, tree) for sample in X]"
      ],
      "metadata": {
        "id": "QYtU_phHYMh7"
      },
      "execution_count": 11,
      "outputs": []
    },
    {
      "cell_type": "markdown",
      "source": [
        "Full Example Recap"
      ],
      "metadata": {
        "id": "vfrX-nb-ZPp4"
      }
    },
    {
      "cell_type": "code",
      "source": [
        "from sklearn.datasets import load_iris\n",
        "from sklearn.model_selection import train_test_split\n",
        "from sklearn.metrics import accuracy_score\n",
        "\n",
        "iris = load_iris()\n",
        "X, y = iris.data, iris.target\n",
        "X_train, X_test, y_train, y_test = train_test_split(X, y, test_size=0.2)\n",
        "\n",
        "tree = build_tree(X_train, y_train, max_depth=3)\n",
        "y_pred = predict_batch(X_test, tree)\n",
        "\n",
        "print(\"Accuracy:\", accuracy_score(y_test, y_pred))\n"
      ],
      "metadata": {
        "colab": {
          "base_uri": "https://localhost:8080/"
        },
        "id": "kkdMAG4yZcCH",
        "outputId": "273a9579-7b2b-4ccc-c771-1da482d1d6f2"
      },
      "execution_count": 15,
      "outputs": [
        {
          "output_type": "stream",
          "name": "stdout",
          "text": [
            "Accuracy: 0.9\n"
          ]
        }
      ]
    }
  ]
}